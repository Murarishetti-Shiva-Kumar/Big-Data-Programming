{
  "nbformat": 4,
  "nbformat_minor": 0,
  "metadata": {
    "kernelspec": {
      "display_name": "Python 3",
      "language": "python",
      "name": "python3"
    },
    "language_info": {
      "codemirror_mode": {
        "name": "ipython",
        "version": 3
      },
      "file_extension": ".py",
      "mimetype": "text/x-python",
      "name": "python",
      "nbconvert_exporter": "python",
      "pygments_lexer": "ipython3",
      "version": "3.7.6"
    },
    "colab": {
      "name": "ICP10",
      "provenance": [],
      "collapsed_sections": [
        "2N7ZJK8WhofS",
        "2ijpok4VdKqT"
      ]
    }
  },
  "cells": [
    {
      "cell_type": "markdown",
      "metadata": {
        "id": "2N7ZJK8WhofS"
      },
      "source": [
        "# Setting Spark Session in Google Collab Notebook"
      ]
    },
    {
      "cell_type": "markdown",
      "metadata": {
        "id": "0Ko-1MhswrlF"
      },
      "source": [
        "Spark is written in the Scala programming language and requires the Java Virtual Machine (JVM) to run. Therefore, our first task is to download Java."
      ]
    },
    {
      "cell_type": "code",
      "metadata": {
        "id": "ZytH_WdXWGVl"
      },
      "source": [
        "!apt-get install openjdk-8-jdk-headless -qq > /dev/null"
      ],
      "execution_count": 3,
      "outputs": []
    },
    {
      "cell_type": "markdown",
      "metadata": {
        "id": "ZI9xq0SDwtv3"
      },
      "source": [
        "Next, we will install Apache Spark 3.1.1 with Hadoop 2.7 "
      ]
    },
    {
      "cell_type": "code",
      "metadata": {
        "id": "zKje-OuTaRil"
      },
      "source": [
        "!wget -q https://www-us.apache.org/dist/spark/spark-3.1.1/spark-3.1.1-bin-hadoop2.7.tgz"
      ],
      "execution_count": 4,
      "outputs": []
    },
    {
      "cell_type": "markdown",
      "metadata": {
        "id": "zmmDPf77w3QV"
      },
      "source": [
        "Next, we will install Apache Spark 3.0.1 with Hadoop 2.7 "
      ]
    },
    {
      "cell_type": "code",
      "metadata": {
        "id": "gYJem12Iahl_"
      },
      "source": [
        "!tar xf spark-3.1.1-bin-hadoop2.7.tgz"
      ],
      "execution_count": 5,
      "outputs": []
    },
    {
      "cell_type": "markdown",
      "metadata": {
        "id": "yAedimWSw6Fv"
      },
      "source": [
        "There is one last thing that we need to install and that is the findspark library. It will locate Spark on the system and import it as a regular library."
      ]
    },
    {
      "cell_type": "code",
      "metadata": {
        "id": "nAdxoJZ4ajad"
      },
      "source": [
        "pip install -q findspark"
      ],
      "execution_count": 6,
      "outputs": []
    },
    {
      "cell_type": "markdown",
      "metadata": {
        "id": "RX8mn8C0w9m8"
      },
      "source": [
        "Now that we have installed all the necessary dependencies in Colab, it is time to set the environment path. This will enable us to run Pyspark in the Colab environment."
      ]
    },
    {
      "cell_type": "code",
      "metadata": {
        "id": "XvxitpU1aoTa"
      },
      "source": [
        "import os\n",
        "os.environ[\"JAVA_HOME\"] = \"/usr/lib/jvm/java-8-openjdk-amd64\"\n",
        "os.environ[\"SPARK_HOME\"] = \"/content/spark-3.1.1-bin-hadoop2.7\""
      ],
      "execution_count": 7,
      "outputs": []
    },
    {
      "cell_type": "markdown",
      "metadata": {
        "id": "1ygn79wWxFZd"
      },
      "source": [
        "Now that we have installed all the necessary dependencies in Colab, it is time to set the environment path. This will enable us to run Pyspark in the Colab environment."
      ]
    },
    {
      "cell_type": "code",
      "metadata": {
        "id": "zbrbAQT-arE4"
      },
      "source": [
        "import findspark\n",
        "findspark.init()"
      ],
      "execution_count": 8,
      "outputs": []
    },
    {
      "cell_type": "markdown",
      "metadata": {
        "id": "vmpqdqCDxIFo"
      },
      "source": [
        "We need to locate Spark in the system. For that, we import findspark and use the findspark.init() method."
      ]
    },
    {
      "cell_type": "code",
      "metadata": {
        "colab": {
          "base_uri": "https://localhost:8080/",
          "height": 35
        },
        "id": "zwS_t-m8awL6",
        "outputId": "d6719201-2da9-474c-c389-ae1a00e83699"
      },
      "source": [
        "findspark.find()"
      ],
      "execution_count": 10,
      "outputs": [
        {
          "output_type": "execute_result",
          "data": {
            "application/vnd.google.colaboratory.intrinsic+json": {
              "type": "string"
            },
            "text/plain": [
              "'/content/spark-3.1.1-bin-hadoop2.7'"
            ]
          },
          "metadata": {
            "tags": []
          },
          "execution_count": 10
        }
      ]
    },
    {
      "cell_type": "markdown",
      "metadata": {
        "id": "g-YOMMyfxKtk"
      },
      "source": [
        "Now, we can import SparkSession from pyspark.sql and create a SparkSession, which is the entry point to Spark.\n",
        "\n",
        "You can give a name to the session using appName() and add some configurations with config() if you wish."
      ]
    },
    {
      "cell_type": "code",
      "metadata": {
        "id": "s1kDiAf9a2aV"
      },
      "source": [
        "from pyspark.sql import SparkSession\n",
        "\n",
        "spark = SparkSession.builder\\\n",
        "        .master(\"local\")\\\n",
        "        .appName(\"BDP ICP10\")\\\n",
        "        .config('spark.ui.port', '4050')\\\n",
        "        .getOrCreate()"
      ],
      "execution_count": 13,
      "outputs": []
    },
    {
      "cell_type": "markdown",
      "metadata": {
        "id": "sgK--3UBxPgi"
      },
      "source": [
        "print the SparkSession variable."
      ]
    },
    {
      "cell_type": "code",
      "metadata": {
        "colab": {
          "base_uri": "https://localhost:8080/",
          "height": 216
        },
        "id": "qeqbZbvJtL2l",
        "outputId": "8ac1401e-420c-46f9-fbba-2c6edc81b47e"
      },
      "source": [
        "spark"
      ],
      "execution_count": 50,
      "outputs": [
        {
          "output_type": "execute_result",
          "data": {
            "text/html": [
              "\n",
              "            <div>\n",
              "                <p><b>SparkSession - in-memory</b></p>\n",
              "                \n",
              "        <div>\n",
              "            <p><b>SparkContext</b></p>\n",
              "\n",
              "            <p><a href=\"http://7d6cb42ab1c3:4050\">Spark UI</a></p>\n",
              "\n",
              "            <dl>\n",
              "              <dt>Version</dt>\n",
              "                <dd><code>v3.1.1</code></dd>\n",
              "              <dt>Master</dt>\n",
              "                <dd><code>local</code></dd>\n",
              "              <dt>AppName</dt>\n",
              "                <dd><code>Colab</code></dd>\n",
              "            </dl>\n",
              "        </div>\n",
              "        \n",
              "            </div>\n",
              "        "
            ],
            "text/plain": [
              "<pyspark.sql.session.SparkSession at 0x7f92f11a5090>"
            ]
          },
          "metadata": {
            "tags": []
          },
          "execution_count": 50
        }
      ]
    },
    {
      "cell_type": "markdown",
      "metadata": {
        "id": "Lgo3v_FZxSW0"
      },
      "source": [
        "If you want to view the Spark UI, you would have to include a few more lines of code to create a public URL for the UI page."
      ]
    },
    {
      "cell_type": "code",
      "metadata": {
        "colab": {
          "base_uri": "https://localhost:8080/"
        },
        "id": "88G4yTlhvVg6",
        "outputId": "5b38488c-217a-4d3d-86f5-bbc5d3cc9368"
      },
      "source": [
        "!wget https://bin.equinox.io/c/4VmDzA7iaHb/ngrok-stable-linux-amd64.zip\n",
        "!unzip ngrok-stable-linux-amd64.zip\n",
        "get_ipython().system_raw('./ngrok http 4050 &')\n",
        "!curl -s http://localhost:4040/api/tunnels"
      ],
      "execution_count": 51,
      "outputs": [
        {
          "output_type": "stream",
          "text": [
            "--2021-04-06 01:12:59--  https://bin.equinox.io/c/4VmDzA7iaHb/ngrok-stable-linux-amd64.zip\n",
            "Resolving bin.equinox.io (bin.equinox.io)... 34.235.3.193, 3.209.27.98, 34.203.109.182, ...\n",
            "Connecting to bin.equinox.io (bin.equinox.io)|34.235.3.193|:443... connected.\n",
            "HTTP request sent, awaiting response... 200 OK\n",
            "Length: 14746350 (14M) [application/octet-stream]\n",
            "Saving to: ‘ngrok-stable-linux-amd64.zip’\n",
            "\n",
            "ngrok-stable-linux- 100%[===================>]  14.06M  36.0MB/s    in 0.4s    \n",
            "\n",
            "2021-04-06 01:13:00 (36.0 MB/s) - ‘ngrok-stable-linux-amd64.zip’ saved [14746350/14746350]\n",
            "\n",
            "Archive:  ngrok-stable-linux-amd64.zip\n",
            "  inflating: ngrok                   \n",
            "{\"tunnels\":[{\"name\":\"command_line\",\"uri\":\"/api/tunnels/command_line\",\"public_url\":\"https://f7bdf26c95a4.ngrok.io\",\"proto\":\"https\",\"config\":{\"addr\":\"http://localhost:4050\",\"inspect\":true},\"metrics\":{\"conns\":{\"count\":0,\"gauge\":0,\"rate1\":0,\"rate5\":0,\"rate15\":0,\"p50\":0,\"p90\":0,\"p95\":0,\"p99\":0},\"http\":{\"count\":0,\"rate1\":0,\"rate5\":0,\"rate15\":0,\"p50\":0,\"p90\":0,\"p95\":0,\"p99\":0}}}],\"uri\":\"/api/tunnels\"}\n"
          ],
          "name": "stdout"
        }
      ]
    },
    {
      "cell_type": "markdown",
      "metadata": {
        "id": "2ijpok4VdKqT"
      },
      "source": [
        "# Part-1"
      ]
    },
    {
      "cell_type": "markdown",
      "metadata": {
        "id": "HP-hQOM-dWzf"
      },
      "source": [
        "**1. Import the dataset and create data frames directly on import.**"
      ]
    },
    {
      "cell_type": "code",
      "metadata": {
        "id": "3DCdxHUiaNXI"
      },
      "source": [
        "import csv\n",
        "import pyspark.sql.functions as f"
      ],
      "execution_count": 14,
      "outputs": []
    },
    {
      "cell_type": "markdown",
      "metadata": {
        "id": "L4hyfGSTwO7-"
      },
      "source": [
        "Loading data into PySpark"
      ]
    },
    {
      "cell_type": "code",
      "metadata": {
        "id": "b4QXEizlWGVs"
      },
      "source": [
        "df = spark.read.csv(r\"/content/sample_data/survey.csv\",header=True)\n",
        "df.createOrReplaceTempView(\"Survey\")"
      ],
      "execution_count": 16,
      "outputs": []
    },
    {
      "cell_type": "markdown",
      "metadata": {
        "id": "KF6T4RiidgBO"
      },
      "source": [
        "**2. Save data to file.**"
      ]
    },
    {
      "cell_type": "code",
      "metadata": {
        "id": "BFzMxRrRWGVu"
      },
      "source": [
        "df.write.option(\"header\", \"true\").csv(\"df_write_survey.csv\")"
      ],
      "execution_count": 49,
      "outputs": []
    },
    {
      "cell_type": "code",
      "metadata": {
        "colab": {
          "base_uri": "https://localhost:8080/"
        },
        "id": "uJnkb3isd2g0",
        "outputId": "9825deaf-04c9-45ba-809d-3b4e1618b388"
      },
      "source": [
        "df"
      ],
      "execution_count": 18,
      "outputs": [
        {
          "output_type": "execute_result",
          "data": {
            "text/plain": [
              "DataFrame[Timestamp: string, Age: string, Gender: string, Country: string, state: string, self_employed: string, family_history: string, treatment: string, work_interfere: string, no_employees: string, remote_work: string, tech_company: string, benefits: string, care_options: string, wellness_program: string, seek_help: string, anonymity: string, leave: string, mental_health_consequence: string, phys_health_consequence: string, coworkers: string, supervisor: string, mental_health_interview: string, phys_health_interview: string, mental_vs_physical: string, obs_consequence: string, comments: string]"
            ]
          },
          "metadata": {
            "tags": []
          },
          "execution_count": 18
        }
      ]
    },
    {
      "cell_type": "code",
      "metadata": {
        "colab": {
          "base_uri": "https://localhost:8080/"
        },
        "id": "7gxb8JHYWGVv",
        "outputId": "b625c5bc-bf0c-46be-d3ea-3fcb0999779d"
      },
      "source": [
        "df.count()"
      ],
      "execution_count": 19,
      "outputs": [
        {
          "output_type": "execute_result",
          "data": {
            "text/plain": [
              "1259"
            ]
          },
          "metadata": {
            "tags": []
          },
          "execution_count": 19
        }
      ]
    },
    {
      "cell_type": "markdown",
      "metadata": {
        "id": "4bFecmZ4d5ID"
      },
      "source": [
        "**3. Check for Duplicate records in the dataset.**"
      ]
    },
    {
      "cell_type": "code",
      "metadata": {
        "id": "wmi0VO3IWGVv"
      },
      "source": [
        "df=df.dropDuplicates()"
      ],
      "execution_count": 20,
      "outputs": []
    },
    {
      "cell_type": "code",
      "metadata": {
        "colab": {
          "base_uri": "https://localhost:8080/"
        },
        "id": "H8WY6125WGVw",
        "outputId": "c4607c27-10e8-4a1e-fc04-b23a155e5f72"
      },
      "source": [
        "df.count()"
      ],
      "execution_count": 21,
      "outputs": [
        {
          "output_type": "execute_result",
          "data": {
            "text/plain": [
              "1259"
            ]
          },
          "metadata": {
            "tags": []
          },
          "execution_count": 21
        }
      ]
    },
    {
      "cell_type": "markdown",
      "metadata": {
        "id": "L_v85qX40akq"
      },
      "source": [
        "Checking whether any duplicates are present."
      ]
    },
    {
      "cell_type": "code",
      "metadata": {
        "colab": {
          "base_uri": "https://localhost:8080/"
        },
        "id": "wSXpahFtWGVx",
        "outputId": "6ad95f89-4775-461c-c4f3-d577f5e427a8"
      },
      "source": [
        "df.groupBy(df.columns).count().where(f.col('count') > 1).select(f.sum('count')).show()"
      ],
      "execution_count": 22,
      "outputs": [
        {
          "output_type": "stream",
          "text": [
            "+----------+\n",
            "|sum(count)|\n",
            "+----------+\n",
            "|      null|\n",
            "+----------+\n",
            "\n"
          ],
          "name": "stdout"
        }
      ]
    },
    {
      "cell_type": "markdown",
      "metadata": {
        "id": "sSyU-80feGV6"
      },
      "source": [
        "**4. Apply Union operation on the dataset and order the output by Country Name alphabetically.**"
      ]
    },
    {
      "cell_type": "markdown",
      "metadata": {
        "id": "J3jcQF8M1KEJ"
      },
      "source": [
        "Creating two tables based on gender(Male, Female) and merging them using union operation"
      ]
    },
    {
      "cell_type": "code",
      "metadata": {
        "id": "A4a19nj3WGVx"
      },
      "source": [
        "spark.sql(\"select * from Survey where Gender = 'Male' or Gender = 'M' or Gender='male'\").createTempView(\"Table_Male\")"
      ],
      "execution_count": 23,
      "outputs": []
    },
    {
      "cell_type": "code",
      "metadata": {
        "id": "L033eMZaWGVy"
      },
      "source": [
        "spark.sql(\"select * from Survey where Gender = 'Female' or Gender = 'female'\").createTempView(\"Table_Female\")"
      ],
      "execution_count": 24,
      "outputs": []
    },
    {
      "cell_type": "code",
      "metadata": {
        "colab": {
          "base_uri": "https://localhost:8080/"
        },
        "id": "oq4pp6nUWGVy",
        "outputId": "a677a075-f422-4cb2-c15c-e1331c5360ea"
      },
      "source": [
        "spark.sql(\"select * from Table_Male union select * from Table_Female order by Country\").show(100)"
      ],
      "execution_count": 25,
      "outputs": [
        {
          "output_type": "stream",
          "text": [
            "+-------------------+---+------+--------------------+-----+-------------+--------------+---------+--------------+--------------+-----------+------------+----------+------------+----------------+----------+----------+------------------+-------------------------+-----------------------+------------+------------+-----------------------+---------------------+------------------+---------------+--------------------+\n",
            "|          Timestamp|Age|Gender|             Country|state|self_employed|family_history|treatment|work_interfere|  no_employees|remote_work|tech_company|  benefits|care_options|wellness_program| seek_help| anonymity|             leave|mental_health_consequence|phys_health_consequence|   coworkers|  supervisor|mental_health_interview|phys_health_interview|mental_vs_physical|obs_consequence|            comments|\n",
            "+-------------------+---+------+--------------------+-----+-------------+--------------+---------+--------------+--------------+-----------+------------+----------+------------+----------------+----------+----------+------------------+-------------------------+-----------------------+------------+------------+-----------------------+---------------------+------------------+---------------+--------------------+\n",
            "|2014-08-27 19:08:31| 34|     M|           Australia|   NA|           No|            No|       No|     Sometimes|More than 1000|         No|         Yes|       Yes|         Yes|             Yes|       Yes|       Yes|         Very easy|                       No|                     No|Some of them|         Yes|                     No|                Maybe|               Yes|             No|                  NA|\n",
            "|2014-08-27 23:30:52| 27|  Male|           Australia|   NA|           No|            No|       No|         Never|           1-5|        Yes|         Yes|        No|          No|              No|        No|Don't know|        Don't know|                      Yes|                     No|          No|          No|                     No|                Maybe|        Don't know|             No|                  NA|\n",
            "|2015-05-06 10:14:50| 22|  Male|           Australia|   NA|           No|           Yes|      Yes|         Often|       100-500|         No|          No|       Yes|         Yes|             Yes|       Yes|       Yes|        Don't know|                    Maybe|                  Maybe|          No|         Yes|                     No|                Maybe|        Don't know|            Yes|In australia all ...|\n",
            "|2014-08-27 17:48:54| 27|Female|           Australia|   NA|           No|           Yes|      Yes|     Sometimes|          6-25|         No|         Yes|        No|         Yes|              No|        No|        No|Somewhat difficult|                      Yes|                     No|Some of them|Some of them|                     No|                   No|                No|             No|                  NA|\n",
            "|2014-08-27 13:49:15| 25|  Male|           Australia|   NA|           No|           Yes|      Yes|         Often|          6-25|         No|         Yes|        No|         Yes|              No|        No|        No|    Very difficult|                      Yes|                  Maybe|          No|          No|                     No|                  Yes|                No|            Yes|                  NA|\n",
            "|2014-08-27 11:51:34| 23|Female|           Australia|   NA|           No|           Yes|      Yes|         Often|           1-5|        Yes|         Yes|        No|    Not sure|              No|        No|Don't know|         Very easy|                       No|                     No|Some of them|         Yes|                     No|                Maybe|               Yes|             No|Thanks for doing ...|\n",
            "|2014-08-27 14:03:59| 22|  Male|           Australia|   NA|          Yes|           Yes|      Yes|     Sometimes|          6-25|        Yes|         Yes|Don't know|    Not sure|             Yes|       Yes|Don't know|     Somewhat easy|                    Maybe|                     No|Some of them|         Yes|                     No|                  Yes|                No|            Yes|                  NA|\n",
            "|2014-08-28 18:18:43| 48|  male|           Australia|   NA|           No|            No|      Yes|     Sometimes|          6-25|         No|         Yes|        No|          No|              No|        No|Don't know|     Somewhat easy|                      Yes|                     No|Some of them|          No|                     No|                Maybe|                No|            Yes|                  NA|\n",
            "|2014-08-27 13:19:40| 34|  Male|           Australia|   NA|          Yes|            No|       No|     Sometimes|           1-5|        Yes|         Yes|Don't know|    Not sure|             Yes|       Yes|Don't know|Somewhat difficult|                      Yes|                    Yes|          No|          No|                     No|                Maybe|               Yes|             No|                  NA|\n",
            "|2014-08-27 21:54:32| 27|  Male|           Australia|   NA|           No|            No|      Yes|         Often|       100-500|        Yes|         Yes|        No|          No|              No|        No|Don't know|        Don't know|                    Maybe|                     No|Some of them|          No|                     No|                Maybe|                No|            Yes|                  NA|\n",
            "|2014-08-27 17:41:44| 31|  Male|           Australia|   NA|           No|            No|      Yes|        Rarely|       100-500|         No|         Yes|       Yes|         Yes|             Yes|       Yes|Don't know|     Somewhat easy|                       No|                     No|         Yes|         Yes|                    Yes|                  Yes|                No|             No|                  NA|\n",
            "|2014-08-28 04:16:30| 34|Female|           Australia|   NA|           No|           Yes|       No|         Never|      500-1000|         No|          No|Don't know|          No|             Yes|       Yes|Don't know|        Don't know|                      Yes|                  Maybe|          No|          No|                     No|                   No|        Don't know|            Yes|I don't have any ...|\n",
            "|2014-08-30 05:05:44| 26|  male|           Australia|   NA|           No|           Yes|      Yes|        Rarely|        26-100|         No|         Yes|        No|          No|      Don't know|Don't know|Don't know|         Very easy|                       No|                     No|         Yes|         Yes|                  Maybe|                  Yes|               Yes|             No|                  NA|\n",
            "|2015-02-21 04:55:11| 28|  Male|           Australia|   NA|           No|            No|      Yes|         Often|       100-500|        Yes|         Yes|        No|         Yes|              No|        No|Don't know|        Don't know|                      Yes|                     No|          No|          No|                     No|                Maybe|                No|             No|                  NA|\n",
            "|2014-08-28 10:54:31| 37|  male|           Australia|   NA|           No|           Yes|      Yes|     Sometimes|        26-100|         No|         Yes|        No|         Yes|              No|        No|       Yes|         Very easy|                       No|                     No|Some of them|         Yes|                     No|                Maybe|               Yes|            Yes|                  NA|\n",
            "|2014-08-28 03:29:19| 29|Female|           Australia|   NA|           No|           Yes|      Yes|     Sometimes|More than 1000|         No|          No|       Yes|         Yes|             Yes|       Yes|        No|Somewhat difficult|                      Yes|                     No|Some of them|Some of them|                     No|                   No|                No|            Yes|                  NA|\n",
            "|2014-08-28 03:52:05| 30|  Male|           Australia|   NA|           No|            No|       No|     Sometimes|        26-100|         No|         Yes|        No|          No|              No|        No|Don't know|         Very easy|                       No|                     No|Some of them|Some of them|                     No|                   No|        Don't know|             No|                  NA|\n",
            "|2014-08-27 15:40:03| 20|  Male|           Australia|   NA|           No|            No|       No|            NA|       100-500|        Yes|         Yes|Don't know|    Not sure|      Don't know|Don't know|       Yes|         Very easy|                       No|                     No|Some of them|         Yes|                     No|                   No|        Don't know|             No|                  NA|\n",
            "|2014-08-29 11:04:19| 26|  male|           Australia|   NA|           No|           Yes|      Yes|     Sometimes|        26-100|        Yes|         Yes|        No|          No|              No|        No|       Yes|        Don't know|                       No|                     No|         Yes|         Yes|                     No|                Maybe|               Yes|             No|The questions rel...|\n",
            "|2014-08-27 19:27:25| 33|  Male|           Australia|   NA|           No|            No|       No|         Never|More than 1000|         No|         Yes|Don't know|    Not sure|      Don't know|Don't know|       Yes|         Very easy|                       No|                     No|Some of them|         Yes|                  Maybe|                  Yes|               Yes|             No|                  NA|\n",
            "|2014-08-27 13:00:38| 34|  male|             Austria|   NA|           No|           Yes|       No|            NA|       100-500|        Yes|         Yes|Don't know|          No|      Don't know|Don't know|Don't know|         Very easy|                       No|                     No|         Yes|         Yes|                     No|                   No|               Yes|             No|                  NA|\n",
            "|2014-08-27 17:33:51| 24|  male|             Austria|   NA|          Yes|            No|       No|     Sometimes|           1-5|         No|         Yes|       Yes|         Yes|      Don't know|Don't know|       Yes|     Somewhat easy|                       No|                     No|Some of them|Some of them|                  Maybe|                Maybe|               Yes|             No|                  NA|\n",
            "|2014-12-01 09:58:28| 31|Female|             Belgium|   NA|           No|            No|       No|            NA|        26-100|         No|         Yes|Don't know|    Not sure|              No|        No|       Yes|         Very easy|                    Maybe|                     No|Some of them|Some of them|                     No|                   No|        Don't know|             No|                  NA|\n",
            "|2014-08-28 10:57:23| 32|  male|             Belgium|   NA|           No|            No|       No|            NA|          6-25|         No|         Yes|        No|         Yes|              No|        No|Don't know|    Very difficult|                      Yes|                  Maybe|          No|          No|                     No|                   No|                No|             No|                  NA|\n",
            "|2014-08-29 08:54:23| 26|  male|             Belgium|   NA|           No|            No|       No|         Never|          6-25|         No|         Yes|       Yes|          No|              No|        No|        No|     Somewhat easy|                    Maybe|                     No|          No|          No|                     No|                   No|        Don't know|             No|                  NA|\n",
            "|2014-08-27 14:49:08| 29|  Male|             Belgium|   NA|           No|            No|       No|         Often|          6-25|         No|          No|Don't know|          No|              No|        No|Don't know|        Don't know|                    Maybe|                     No|         Yes|         Yes|                  Maybe|                Maybe|        Don't know|             No|In Belgium we hav...|\n",
            "|2014-09-01 10:06:14| 28|  male|             Belgium|   NA|           No|            No|       No|     Sometimes|More than 1000|         No|          No|        No|          No|              No|        No|Don't know|     Somewhat easy|                      Yes|                  Maybe|          No|          No|                     No|                   No|        Don't know|            Yes|                  NA|\n",
            "|2014-08-28 03:42:58| 31|female|             Belgium|   NA|           No|           Yes|      Yes|        Rarely|       100-500|         No|          No|       Yes|          No|              No|        No|        No|        Don't know|                    Maybe|                     No|Some of them|          No|                     No|                   No|        Don't know|            Yes|                  NA|\n",
            "|2014-08-27 17:19:05| 25|  Male|Bosnia and Herzeg...|   NA|           No|           Yes|       No|        Rarely|        26-100|        Yes|         Yes|Don't know|    Not sure|      Don't know|Don't know|Don't know|        Don't know|                    Maybe|                    Yes|          No|          No|                     No|                   No|        Don't know|            Yes|                  NA|\n",
            "|2014-08-27 12:25:09| 28|  Male|              Brazil|   NA|           No|           Yes|      Yes|        Rarely|          6-25|         No|         Yes|        No|          No|              No|        No|        No|        Don't know|                    Maybe|                     No|         Yes|         Yes|                     No|                   No|        Don't know|            Yes|                  NA|\n",
            "|2014-08-29 11:25:30| 28|  Male|              Brazil|   NA|           No|           Yes|       No|     Sometimes|       100-500|         No|         Yes|        No|          No|              No|        No|Don't know|     Somewhat easy|                       No|                     No|Some of them|Some of them|                     No|                   No|        Don't know|            Yes|                  NA|\n",
            "|2015-02-21 05:34:27| 31|  Male|              Brazil|   NA|          Yes|            No|      Yes|            NA|           1-5|         No|         Yes|        No|         Yes|              No|        No|        No|        Don't know|                       No|                     No|         Yes|         Yes|                     No|                Maybe|        Don't know|             No|                  NA|\n",
            "|2014-08-28 13:32:37| 28|  Male|              Brazil|   NA|           No|            No|       No|            NA|        26-100|         No|         Yes|Don't know|          No|              No|        No|Don't know|        Don't know|                    Maybe|                     No|Some of them|         Yes|                  Maybe|                  Yes|                No|            Yes|                  NA|\n",
            "|2014-08-27 15:28:34| 22|  Male|              Brazil|   NA|          Yes|            No|       No|         Never|          6-25|        Yes|         Yes|Don't know|          No|              No|        No|Don't know|     Somewhat easy|                       No|                     No|         Yes|         Yes|                  Maybe|                   No|        Don't know|             No|                  NA|\n",
            "|2014-08-27 15:56:37| 27|  Male|              Brazil|   NA|           No|            No|       No|        Rarely|          6-25|         No|         Yes|        No|         Yes|              No|        No|Don't know|     Somewhat easy|                    Maybe|                     No|Some of them|Some of them|                     No|                Maybe|                No|             No|                  NA|\n",
            "|2014-08-27 13:05:45| 26|  male|            Bulgaria|   NA|           No|            No|       No|            NA|       100-500|         No|         Yes|        No|          No|              No|        No|        No|         Very easy|                      Yes|                  Maybe|          No|          No|                     No|                Maybe|        Don't know|             No|                  NA|\n",
            "|2014-09-26 10:05:55| 25|female|            Bulgaria|   UT|           No|            No|      Yes|     Sometimes|        26-100|        Yes|         Yes|        No|          No|              No|        No|Don't know|        Don't know|                    Maybe|                  Maybe|         Yes|Some of them|                  Maybe|                   No|                No|             No|                  NA|\n",
            "|2014-08-27 11:32:49| 29|  male|            Bulgaria|   NA|           NA|            No|       No|         Never|       100-500|        Yes|         Yes|Don't know|    Not sure|              No|        No|Don't know|        Don't know|                       No|                     No|         Yes|         Yes|                    Yes|                  Yes|        Don't know|             No|                  NA|\n",
            "|2014-08-28 08:43:57| 33|  male|            Bulgaria|   NA|           No|            No|      Yes|        Rarely|        26-100|        Yes|         Yes|        No|          No|              No|        No|Don't know|     Somewhat easy|                    Maybe|                     No|Some of them|Some of them|                     No|                Maybe|        Don't know|            Yes|                  NA|\n",
            "|2014-09-02 08:00:33| 38|  Male|              Canada|   NA|           No|           Yes|      Yes|        Rarely|       100-500|         No|         Yes|Don't know|    Not sure|              No|Don't know|Don't know|        Don't know|                       No|                     No|         Yes|         Yes|                     No|                Maybe|                No|             No|                  NA|\n",
            "|2014-08-28 11:15:42| 19|  Male|              Canada|   NA|           No|            No|      Yes|     Sometimes|        26-100|         No|         Yes|Don't know|    Not sure|              No|        No|Don't know|Somewhat difficult|                       No|                     No|Some of them|         Yes|                     No|                  Yes|        Don't know|             No|                  NA|\n",
            "|2014-08-27 14:01:25| 33|  Male|              Canada|   NA|           No|            No|       No|            NA|       100-500|         No|         Yes|       Yes|          No|             Yes|       Yes|       Yes|        Don't know|                       No|                     No|Some of them|         Yes|                     No|                   No|        Don't know|             No|                  NA|\n",
            "|2014-08-29 10:05:57| 19|     M|              Canada|   NA|           No|            No|       No|         Never|        26-100|        Yes|         Yes|Don't know|          No|              No|        No|Don't know|     Somewhat easy|                       No|                     No|Some of them|Some of them|                     No|                Maybe|                No|             No|                  NA|\n",
            "|2014-08-28 09:09:30| 29|female|              Canada|   NA|           No|            No|      Yes|        Rarely|More than 1000|        Yes|          No|       Yes|         Yes|             Yes|Don't know|       Yes|     Somewhat easy|                       No|                     No|          No|         Yes|                     No|                Maybe|        Don't know|             No|                  NA|\n",
            "|2014-08-28 11:36:48| 31|  Male|              Canada|   NA|          Yes|           Yes|       No|     Sometimes|           1-5|        Yes|         Yes|        No|         Yes|              No|        No|       Yes|     Somewhat easy|                       No|                     No|          No|          No|                     No|                   No|               Yes|             No|I feel like most ...|\n",
            "|2014-08-27 15:51:36| 37|  Male|              Canada|   NA|           No|           Yes|      Yes|        Rarely|More than 1000|         No|          No|       Yes|         Yes|             Yes|       Yes|Don't know|        Don't know|                    Maybe|                  Maybe|Some of them|Some of them|                     No|                   No|        Don't know|             No|                  NA|\n",
            "|2014-08-29 11:23:21| 26|Female|              Canada|   NA|           No|           Yes|      Yes|     Sometimes|       100-500|         No|         Yes|       Yes|    Not sure|              No|        No|       Yes|        Don't know|                    Maybe|                     No|Some of them|          No|                     No|                Maybe|        Don't know|             No|                  NA|\n",
            "|2014-08-27 11:43:07| 27|  Male|              Canada|   NA|           No|           Yes|      Yes|     Sometimes|           1-5|         No|         Yes|        No|         Yes|              No|        No|       Yes|    Very difficult|                    Maybe|                     No|Some of them|          No|                     No|                   No|               Yes|             No|                  NA|\n",
            "|2014-08-27 11:29:44| 32|  Male|              Canada|   NA|           NA|            No|       No|        Rarely|          6-25|         No|         Yes|        No|          No|              No|        No|Don't know|Somewhat difficult|                       No|                     No|         Yes|         Yes|                    Yes|                  Yes|                No|             No|                  NA|\n",
            "|2014-08-29 09:01:45| 27|  Male|              Canada|   NA|           No|            No|       No|         Never|        26-100|         No|         Yes|       Yes|    Not sure|             Yes|        No|       Yes|         Very easy|                       No|                     No|         Yes|         Yes|                  Maybe|                Maybe|               Yes|             No|                  NA|\n",
            "|2014-08-27 15:46:12| 23|     M|              Canada|   NA|           No|           Yes|      Yes|     Sometimes|          6-25|         No|         Yes|       Yes|         Yes|              No|        No|       Yes|         Very easy|                       No|                     No|         Yes|         Yes|                     No|                   No|               Yes|             No|                  NA|\n",
            "|2014-08-27 22:07:34| 19|  Male|              Canada|   NA|           No|           Yes|      Yes|     Sometimes|           1-5|         No|         Yes|        No|          No|              No|        No|Don't know|        Don't know|                    Maybe|                  Maybe|Some of them|          No|                     No|                Maybe|        Don't know|             No|                  NA|\n",
            "|2014-08-29 11:02:23| 35|  Male|              Canada|   NA|           No|           Yes|       No|     Sometimes|          6-25|        Yes|         Yes|        No|         Yes|              No|        No|Don't know|        Don't know|                    Maybe|                     No|          No|Some of them|                     No|                   No|        Don't know|             No|                  NA|\n",
            "|2014-09-02 13:18:35| 32|  male|              Canada|   NA|          Yes|            No|       No|         Never|          6-25|        Yes|         Yes|Don't know|    Not sure|              No|        No|Don't know|         Very easy|                       No|                     No|         Yes|         Yes|                  Maybe|                Maybe|               Yes|             No|                  NA|\n",
            "|2014-08-27 11:32:05| 39|     M|              Canada|   NA|           NA|            No|       No|         Never|           1-5|        Yes|         Yes|        No|         Yes|              No|        No|       Yes|        Don't know|                       No|                     No|          No|          No|                     No|                   No|                No|             No|                  NA|\n",
            "|2014-08-29 21:40:26| 33|Female|              Canada|   NA|          Yes|           Yes|      Yes|         Often|           1-5|        Yes|         Yes|        No|         Yes|              No|        No|        No|    Very difficult|                      Yes|                    Yes|          No|          No|                     No|                Maybe|                No|            Yes|                  NA|\n",
            "|2014-08-28 10:15:52| 30|  male|              Canada|   NA|           No|           Yes|      Yes|     Sometimes|More than 1000|         No|          No|Don't know|          No|              No|        No|        No|    Very difficult|                      Yes|                     No|Some of them|          No|                     No|                  Yes|                No|            Yes|                  NA|\n",
            "|2014-08-27 11:33:57| 27|  Male|              Canada|   NA|           NA|            No|       No|         Never|          6-25|         No|         Yes|Don't know|    Not sure|      Don't know|Don't know|Don't know|     Somewhat easy|                       No|                     No|Some of them|Some of them|                  Maybe|                  Yes|               Yes|             No|                  NA|\n",
            "|2014-08-28 11:09:03| 28|  male|              Canada|   NA|           No|            No|       No|            NA|          6-25|         No|         Yes|       Yes|    Not sure|              No|Don't know|       Yes|         Very easy|                       No|                     No|Some of them|         Yes|                  Maybe|                Maybe|               Yes|             No|                  NA|\n",
            "|2014-08-27 11:53:25| 34|  male|              Canada|   NA|           No|            No|       No|         Never|          6-25|         No|         Yes|Don't know|    Not sure|      Don't know|Don't know|Don't know|     Somewhat easy|                       No|                     No|Some of them|         Yes|                     No|                   No|        Don't know|             No|                  NA|\n",
            "|2015-02-21 04:16:05| 34|  Male|              Canada|   NA|           No|           Yes|       No|     Sometimes|More than 1000|         No|         Yes|       Yes|    Not sure|             Yes|       Yes|       Yes|        Don't know|                    Maybe|                     No|          No|          No|                     No|                Maybe|        Don't know|             No|                  NA|\n",
            "|2014-08-27 11:41:37| 29|  Male|              Canada|   NA|           No|            No|       No|        Rarely|           1-5|         No|         Yes|        No|          No|              No|        No|Don't know|         Very easy|                      Yes|                  Maybe|Some of them|          No|                     No|                   No|        Don't know|             No|                  NA|\n",
            "|2014-08-27 12:18:14| 26|female|              Canada|   NA|           No|           Yes|      Yes|     Sometimes|        26-100|         No|          No|        No|         Yes|              No|        No|        No|    Very difficult|                      Yes|                     No|          No|          No|                     No|                Maybe|                No|            Yes|In my previous wo...|\n",
            "|2014-08-27 15:23:07| 41|  Male|              Canada|   NA|           No|            No|      Yes|         Never|      500-1000|         No|         Yes|       Yes|    Not sure|              No|Don't know|Don't know|     Somewhat easy|                       No|                     No|Some of them|Some of them|                     No|                   No|        Don't know|             No|                  NA|\n",
            "|2014-08-27 11:47:56| 33|  male|              Canada|   NA|           No|           Yes|      Yes|         Often|          6-25|        Yes|         Yes|Don't know|          No|              No|        No|        No|Somewhat difficult|                      Yes|                     No|          No|          No|                     No|                Maybe|        Don't know|             No|In addition to my...|\n",
            "|2014-08-27 13:53:44| 43|  Male|              Canada|   NA|          Yes|            No|       No|            NA|          6-25|        Yes|         Yes|        No|    Not sure|              No|        No|Don't know|     Somewhat easy|                    Maybe|                     No|         Yes|         Yes|                    Yes|                  Yes|        Don't know|             No|                  NA|\n",
            "|2014-08-27 13:52:05| 27|  Male|              Canada|   NA|           No|            No|       No|     Sometimes|          6-25|        Yes|         Yes|        No|         Yes|              No|        No|        No|    Very difficult|                      Yes|                    Yes|Some of them|Some of them|                     No|                Maybe|                No|             No|                  NA|\n",
            "|2014-08-27 13:03:05| 21|  Male|              Canada|   NA|           No|            No|      Yes|     Sometimes|          6-25|        Yes|         Yes|        No|         Yes|              No|        No|Don't know|Somewhat difficult|                       No|                     No|Some of them|Some of them|                  Maybe|                Maybe|               Yes|             No|                  NA|\n",
            "|2014-08-27 14:33:44| 25|  Male|              Canada|   NA|           No|           Yes|      Yes|     Sometimes|More than 1000|         No|         Yes|       Yes|         Yes|              No|Don't know|Don't know|        Don't know|                      Yes|                  Maybe|Some of them|          No|                     No|                   No|                No|             No|                  NA|\n",
            "|2014-08-28 08:06:43| 35|  Male|              Canada|   NA|           No|           Yes|       No|     Sometimes|        26-100|         No|         Yes|Don't know|          No|              No|        No|Don't know|        Don't know|                    Maybe|                  Maybe|Some of them|Some of them|                     No|                   No|                No|             No|                  NA|\n",
            "|2014-08-27 12:36:53| 24|  Male|              Canada|   NA|           No|            No|      Yes|         Never|        26-100|         No|         Yes|Don't know|          No|              No|        No|Don't know|        Don't know|                       No|                     No|Some of them|         Yes|                  Maybe|                  Yes|        Don't know|             No|                  NA|\n",
            "|2014-08-28 09:55:14| 28|Female|              Canada|   NA|           No|            No|       No|            NA|More than 1000|         No|         Yes|       Yes|    Not sure|      Don't know|Don't know|Don't know|     Somewhat easy|                       No|                     No|Some of them|         Yes|                     No|                   No|        Don't know|             No|I am a contractor...|\n",
            "|2014-08-27 12:40:36| 19|  Male|              Canada|   NA|          Yes|           Yes|       No|            NA|           1-5|        Yes|         Yes|Don't know|    Not sure|              No|       Yes|       Yes|     Somewhat easy|                    Maybe|                     No|Some of them|Some of them|                  Maybe|                Maybe|        Don't know|             No|                  NA|\n",
            "|2014-08-27 17:37:41| 31|Female|              Canada|   NA|          Yes|           Yes|      Yes|     Sometimes|       100-500|        Yes|         Yes|Don't know|    Not sure|      Don't know|Don't know|Don't know|        Don't know|                    Maybe|                  Maybe|Some of them|         Yes|                     No|                   No|               Yes|             No|                  NA|\n",
            "|2014-08-27 12:33:56| 27|  Male|              Canada|   NA|           No|            No|      Yes|         Never|       100-500|         No|          No|       Yes|    Not sure|              No|        No|Don't know|    Very difficult|                    Maybe|                     No|Some of them|         Yes|                     No|                Maybe|                No|            Yes|                  NA|\n",
            "|2014-08-29 16:21:16| 34|female|              Canada|   NA|           No|           Yes|      Yes|         Often|        26-100|         No|          No|Don't know|          No|             Yes|Don't know|Don't know|     Somewhat easy|                       No|                     No|Some of them|Some of them|                     No|                   No|               Yes|             No|                  NA|\n",
            "|2014-08-27 12:49:30| 34|Female|              Canada|   NA|           No|           Yes|      Yes|     Sometimes|More than 1000|         No|          No|       Yes|         Yes|             Yes|        No|Don't know|     Somewhat easy|                       No|                     No|Some of them|         Yes|                     No|                   No|                No|             No|                  NA|\n",
            "|2014-08-28 10:16:55| 29|  male|              Canada|   NA|           No|            No|       No|            NA|           1-5|        Yes|         Yes|        No|         Yes|              No|        No|Don't know|Somewhat difficult|                    Maybe|                  Maybe|         Yes|         Yes|                     No|                Maybe|        Don't know|             No|                  NA|\n",
            "|2014-08-29 08:59:08| 37|Female|              Canada|   NA|          Yes|           Yes|      Yes|        Rarely|           1-5|        Yes|         Yes|        No|         Yes|              No|        No|       Yes|     Somewhat easy|                      Yes|                  Maybe|Some of them|Some of them|                  Maybe|                Maybe|        Don't know|            Yes|                  NA|\n",
            "|2014-08-27 21:05:41| 29|  male|              Canada|   NA|          Yes|            No|       No|         Never|        26-100|        Yes|         Yes|       Yes|         Yes|              No|        No|       Yes|    Very difficult|                      Yes|                     No|Some of them|          No|                     No|                  Yes|                No|             No|                  NA|\n",
            "|2014-08-28 12:08:30| 39|  Male|              Canada|   NA|           No|            No|      Yes|     Sometimes|       100-500|         No|          No|       Yes|         Yes|             Yes|       Yes|       Yes|         Very easy|                      Yes|                     No|Some of them|         Yes|                     No|                Maybe|                No|            Yes|                  NA|\n",
            "|2014-08-28 16:58:50| 26|  Male|              Canada|   NA|           No|            No|       No|     Sometimes|          6-25|        Yes|         Yes|        No|          No|              No|        No|Don't know|    Very difficult|                      Yes|                  Maybe|Some of them|Some of them|                     No|                Maybe|        Don't know|             No|                  NA|\n",
            "|2014-08-27 13:46:03| 29|  Male|              Canada|   NA|           No|            No|       No|         Often|          6-25|         No|         Yes|        No|          No|              No|        No|Don't know|Somewhat difficult|                      Yes|                     No|          No|          No|                     No|                Maybe|        Don't know|             No|                  NA|\n",
            "|2014-08-27 11:32:43| 23|  Male|              Canada|   NA|           NA|            No|       No|         Never|        26-100|         No|         Yes|Don't know|          No|      Don't know|Don't know|Don't know|        Don't know|                       No|                     No|         Yes|         Yes|                  Maybe|                Maybe|               Yes|             No|                  NA|\n",
            "|2014-08-27 21:35:24| 29|  Male|              Canada|   NA|           No|            No|      Yes|         Never|More than 1000|         No|          No|       Yes|    Not sure|             Yes|       Yes|       Yes|Somewhat difficult|                    Maybe|                     No|Some of them|          No|                     No|                Maybe|        Don't know|            Yes|For clarity I wor...|\n",
            "|2014-08-27 14:23:53| 25|  Male|              Canada|   NA|           No|            No|      Yes|         Often|          6-25|        Yes|          No|Don't know|          No|              No|Don't know|Don't know|Somewhat difficult|                      Yes|                  Maybe|          No|          No|                     No|                Maybe|        Don't know|             No|                  NA|\n",
            "|2014-08-30 13:55:45| 24|  Male|              Canada|   NA|           No|            No|       No|     Sometimes|        26-100|         No|         Yes|       Yes|         Yes|              No|        No|       Yes|        Don't know|                    Maybe|                     No|          No|          No|                     No|                Maybe|        Don't know|            Yes|                  NA|\n",
            "|2014-08-27 14:10:53| 25|  Male|              Canada|   NA|           No|            No|       No|            NA|       100-500|         No|          No|Don't know|    Not sure|              No|        No|Don't know|        Don't know|                       No|                     No|Some of them|Some of them|                     No|                  Yes|                No|             No|                  NA|\n",
            "|2015-02-24 09:18:25| 23|  Male|              Canada|   NA|           No|            No|      Yes|         Often|        26-100|         No|         Yes|       Yes|         Yes|             Yes|Don't know|Don't know|        Don't know|                    Maybe|                     No|         Yes|Some of them|                     No|                   No|        Don't know|             No|                  NA|\n",
            "|2014-08-27 13:09:24| 31|     M|              Canada|   NA|          Yes|            No|       No|            NA|          6-25|         No|         Yes|       Yes|         Yes|              No|Don't know|       Yes|         Very easy|                       No|                     No|Some of them|Some of them|                     No|                   No|               Yes|             No|                  NA|\n",
            "|2014-08-27 15:24:55| 26|  Male|              Canada|   NA|           No|           Yes|      Yes|         Often|        26-100|        Yes|         Yes|Don't know|          No|      Don't know|Don't know|Don't know|         Very easy|                       No|                     No|         Yes|         Yes|                     No|                   No|               Yes|             No|                  NA|\n",
            "|2014-08-27 12:02:52| 30|  male|              Canada|   NA|           No|            No|       No|         Never|        26-100|         No|          No|        No|          No|              No|        No|Don't know|        Don't know|                       No|                     No|Some of them|         Yes|                     No|                   No|                No|             No|                  NA|\n",
            "|2014-08-27 12:31:41| 27|  Male|              Canada|   NA|           No|            No|       No|        Rarely|          6-25|         No|          No|       Yes|         Yes|             Yes|       Yes|       Yes|         Very easy|                    Maybe|                     No|Some of them|         Yes|                     No|                   No|        Don't know|             No|                  NA|\n",
            "|2014-08-28 09:54:38| 23|  male|              Canada|   NA|           No|            No|      Yes|     Sometimes|          6-25|         No|         Yes|       Yes|          No|              No|        No|Don't know|     Somewhat easy|                    Maybe|                  Maybe|Some of them|Some of them|                     No|                   No|        Don't know|             No|                  NA|\n",
            "|2014-08-27 15:25:47| 29|  Male|              Canada|   NA|           No|            No|      Yes|     Sometimes|       100-500|         No|         Yes|Don't know|    Not sure|      Don't know|Don't know|       Yes|     Somewhat easy|                    Maybe|                     No|Some of them|Some of them|                     No|                Maybe|               Yes|             No|Being in Canada t...|\n",
            "|2014-08-27 15:36:41| 28|  Male|              Canada|   NA|          Yes|            No|       No|         Never|       100-500|        Yes|         Yes|Don't know|          No|              No|        No|Don't know|     Somewhat easy|                    Maybe|                     No|Some of them|         Yes|                     No|                   No|               Yes|             No|                  NA|\n",
            "|2014-08-28 18:50:47| 25|Female|              Canada|   NA|           No|           Yes|      Yes|     Sometimes|          6-25|         No|         Yes|       Yes|         Yes|              No|        No|       Yes|     Somewhat easy|                       No|                     No|Some of them|         Yes|                     No|                   No|        Don't know|             No|                  NA|\n",
            "|2014-08-27 18:43:06| 29|female|              Canada|   NA|           No|            No|      Yes|     Sometimes|           1-5|         No|         Yes|        No|          No|              No|        No|Don't know|        Don't know|                    Maybe|                     No|Some of them|Some of them|                     No|                   No|               Yes|             No|The family histor...|\n",
            "|2014-08-27 11:50:46| 35|  male|              Canada|   NA|           No|            No|       No|     Sometimes|          6-25|         No|         Yes|Don't know|          No|              No|        No|Don't know|     Somewhat easy|                       No|                     No|Some of them|         Yes|                     No|                Maybe|        Don't know|             No|                  NA|\n",
            "|2014-08-27 14:22:00| 26|  male|              Canada|   NA|           No|           Yes|      Yes|         Often|          6-25|         No|         Yes|       Yes|          No|              No|Don't know|Don't know|        Don't know|                    Maybe|                     No|Some of them|Some of them|                  Maybe|                Maybe|               Yes|             No|                  NA|\n",
            "+-------------------+---+------+--------------------+-----+-------------+--------------+---------+--------------+--------------+-----------+------------+----------+------------+----------------+----------+----------+------------------+-------------------------+-----------------------+------------+------------+-----------------------+---------------------+------------------+---------------+--------------------+\n",
            "only showing top 100 rows\n",
            "\n"
          ],
          "name": "stdout"
        }
      ]
    },
    {
      "cell_type": "markdown",
      "metadata": {
        "id": "mTEsLfgheP2w"
      },
      "source": [
        "**5. Use Groupby Query based on treatment.**"
      ]
    },
    {
      "cell_type": "code",
      "metadata": {
        "colab": {
          "base_uri": "https://localhost:8080/"
        },
        "id": "Nx4j-6vWeWdC",
        "outputId": "0d2ebd55-1be6-43b0-dd73-90ce8097759e"
      },
      "source": [
        "spark.sql(\"select treatment,count(*) as count from Survey group by treatment\").show()"
      ],
      "execution_count": 26,
      "outputs": [
        {
          "output_type": "stream",
          "text": [
            "+---------+-----+\n",
            "|treatment|count|\n",
            "+---------+-----+\n",
            "|       No|  622|\n",
            "|      Yes|  637|\n",
            "+---------+-----+\n",
            "\n"
          ],
          "name": "stdout"
        }
      ]
    },
    {
      "cell_type": "markdown",
      "metadata": {
        "id": "bFFS9YgyeZG0"
      },
      "source": [
        "# Part-2"
      ]
    },
    {
      "cell_type": "markdown",
      "metadata": {
        "id": "67f9QfiKehNZ"
      },
      "source": [
        "**1. Apply the basic queries related to Joins and aggregate functions (at least 2)**"
      ]
    },
    {
      "cell_type": "markdown",
      "metadata": {
        "id": "9HgygJoFer6z"
      },
      "source": [
        "Join Function\n",
        "\n",
        "1.   Selecting the people from male and female tables joined by country\n",
        "2.   Selecting the people from male and female tables joined by State"
      ]
    },
    {
      "cell_type": "code",
      "metadata": {
        "colab": {
          "base_uri": "https://localhost:8080/"
        },
        "id": "UNTBcsDWWGV0",
        "outputId": "9001b4b2-cc4d-4b0c-b3a1-a95a66f836be"
      },
      "source": [
        "spark.sql(\"select m.age,m.Country,m.Gender, m.treatment,f.Gender,f.treatment from Table_Male m join Table_Female f on m.Country = f.Country\").show()"
      ],
      "execution_count": 27,
      "outputs": [
        {
          "output_type": "stream",
          "text": [
            "+---+-------------+------+---------+------+---------+\n",
            "|age|      Country|Gender|treatment|Gender|treatment|\n",
            "+---+-------------+------+---------+------+---------+\n",
            "| 44|United States|     M|       No|Female|      Yes|\n",
            "| 44|United States|     M|       No|Female|      Yes|\n",
            "| 44|United States|     M|       No|female|       No|\n",
            "| 44|United States|     M|       No|female|      Yes|\n",
            "| 44|United States|     M|       No|Female|      Yes|\n",
            "| 44|United States|     M|       No|Female|      Yes|\n",
            "| 44|United States|     M|       No|Female|      Yes|\n",
            "| 44|United States|     M|       No|Female|      Yes|\n",
            "| 44|United States|     M|       No|female|      Yes|\n",
            "| 44|United States|     M|       No|female|      Yes|\n",
            "| 44|United States|     M|       No|female|      Yes|\n",
            "| 44|United States|     M|       No|Female|       No|\n",
            "| 44|United States|     M|       No|Female|      Yes|\n",
            "| 44|United States|     M|       No|Female|      Yes|\n",
            "| 44|United States|     M|       No|female|      Yes|\n",
            "| 44|United States|     M|       No|Female|      Yes|\n",
            "| 44|United States|     M|       No|Female|      Yes|\n",
            "| 44|United States|     M|       No|Female|      Yes|\n",
            "| 44|United States|     M|       No|Female|      Yes|\n",
            "| 44|United States|     M|       No|Female|       No|\n",
            "+---+-------------+------+---------+------+---------+\n",
            "only showing top 20 rows\n",
            "\n"
          ],
          "name": "stdout"
        }
      ]
    },
    {
      "cell_type": "code",
      "metadata": {
        "colab": {
          "base_uri": "https://localhost:8080/"
        },
        "id": "_MHe0EA-e_Bl",
        "outputId": "96f5b0de-e37d-425f-b975-49dab667f9f2"
      },
      "source": [
        "spark.sql(\"select m.age,m.Country,m.Gender, m.treatment,f.Gender,f.treatment from Table_Male m left join Table_Female f on m.State = f.State\").show()"
      ],
      "execution_count": 29,
      "outputs": [
        {
          "output_type": "stream",
          "text": [
            "+---+-------------+------+---------+------+---------+\n",
            "|age|      Country|Gender|treatment|Gender|treatment|\n",
            "+---+-------------+------+---------+------+---------+\n",
            "| 44|United States|     M|       No|female|      Yes|\n",
            "| 44|United States|     M|       No|Female|      Yes|\n",
            "| 32|       Canada|  Male|       No|female|       No|\n",
            "| 32|       Canada|  Male|       No|Female|      Yes|\n",
            "| 32|       Canada|  Male|       No|Female|       No|\n",
            "| 32|       Canada|  Male|       No|female|      Yes|\n",
            "| 32|       Canada|  Male|       No|female|      Yes|\n",
            "| 32|       Canada|  Male|       No|Female|      Yes|\n",
            "| 32|       Canada|  Male|       No|Female|       No|\n",
            "| 32|       Canada|  Male|       No|female|      Yes|\n",
            "| 32|       Canada|  Male|       No|Female|       No|\n",
            "| 32|       Canada|  Male|       No|Female|       No|\n",
            "| 32|       Canada|  Male|       No|female|       No|\n",
            "| 32|       Canada|  Male|       No|Female|      Yes|\n",
            "| 32|       Canada|  Male|       No|Female|      Yes|\n",
            "| 32|       Canada|  Male|       No|female|      Yes|\n",
            "| 32|       Canada|  Male|       No|Female|      Yes|\n",
            "| 32|       Canada|  Male|       No|Female|       No|\n",
            "| 32|       Canada|  Male|       No|female|      Yes|\n",
            "| 32|       Canada|  Male|       No|Female|      Yes|\n",
            "+---+-------------+------+---------+------+---------+\n",
            "only showing top 20 rows\n",
            "\n"
          ],
          "name": "stdout"
        }
      ]
    },
    {
      "cell_type": "markdown",
      "metadata": {
        "id": "b6QfYKOoews0"
      },
      "source": [
        "Aggregate Function\n",
        "\n",
        "---\n",
        "Calculating sum of age of all the people\n",
        "\n",
        "\n",
        "\n"
      ]
    },
    {
      "cell_type": "code",
      "metadata": {
        "colab": {
          "base_uri": "https://localhost:8080/"
        },
        "id": "yRgLji1ZWGV0",
        "outputId": "0f3f551c-4a19-48b3-912d-e774d6744fcd"
      },
      "source": [
        "spark.sql(\"select sum(Age),count(Gender) from Survey\").show()"
      ],
      "execution_count": 28,
      "outputs": [
        {
          "output_type": "stream",
          "text": [
            "+------------------------+-------------+\n",
            "|sum(CAST(Age AS DOUBLE))|count(Gender)|\n",
            "+------------------------+-------------+\n",
            "|        1.00000038724E11|         1259|\n",
            "+------------------------+-------------+\n",
            "\n"
          ],
          "name": "stdout"
        }
      ]
    },
    {
      "cell_type": "markdown",
      "metadata": {
        "id": "3ybnv13Y14SP"
      },
      "source": [
        "**2. Write a query to fetch 13th Row in the dataset.**"
      ]
    },
    {
      "cell_type": "markdown",
      "metadata": {
        "id": "SYIg9o4w3X6R"
      },
      "source": [
        "Identifying the 13th row of the dataframe using limit 13 then displaying it"
      ]
    },
    {
      "cell_type": "code",
      "metadata": {
        "id": "Pz-SnxIDWGV2"
      },
      "source": [
        "spark.sql(\"select * from Survey ORDER BY Timestamp limit 13\").createTempView(\"Test\")"
      ],
      "execution_count": 30,
      "outputs": []
    },
    {
      "cell_type": "code",
      "metadata": {
        "colab": {
          "base_uri": "https://localhost:8080/"
        },
        "id": "ItpHfgNyWGV2",
        "outputId": "3f9eae67-a6af-4cfd-9903-0f21c394d35b"
      },
      "source": [
        "spark.sql(\"select * from Test order by Timestamp desc limit 1\").show()"
      ],
      "execution_count": 31,
      "outputs": [
        {
          "output_type": "stream",
          "text": [
            "+-------------------+---+------+-------------+-----+-------------+--------------+---------+--------------+------------+-----------+------------+--------+------------+----------------+---------+----------+------------------+-------------------------+-----------------------+---------+----------+-----------------------+---------------------+------------------+---------------+--------+\n",
            "|          Timestamp|Age|Gender|      Country|state|self_employed|family_history|treatment|work_interfere|no_employees|remote_work|tech_company|benefits|care_options|wellness_program|seek_help| anonymity|             leave|mental_health_consequence|phys_health_consequence|coworkers|supervisor|mental_health_interview|phys_health_interview|mental_vs_physical|obs_consequence|comments|\n",
            "+-------------------+---+------+-------------+-----+-------------+--------------+---------+--------------+------------+-----------+------------+--------+------------+----------------+---------+----------+------------------+-------------------------+-----------------------+---------+----------+-----------------------+---------------------+------------------+---------------+--------+\n",
            "|2014-08-27 11:33:23| 42|female|United States|   CA|           NA|           Yes|      Yes|     Sometimes|      26-100|         No|          No|     Yes|         Yes|              No|       No|Don't know|Somewhat difficult|                      Yes|                    Yes|      Yes|       Yes|                  Maybe|                Maybe|                No|            Yes|      NA|\n",
            "+-------------------+---+------+-------------+-----+-------------+--------------+---------+--------------+------------+-----------+------------+--------+------------+----------------+---------+----------+------------------+-------------------------+-----------------------+---------+----------+-----------------------+---------------------+------------------+---------------+--------+\n",
            "\n"
          ],
          "name": "stdout"
        }
      ]
    },
    {
      "cell_type": "markdown",
      "metadata": {
        "id": "KeT6pUhalpht"
      },
      "source": [
        "# Mounting Drive to push generated files"
      ]
    },
    {
      "cell_type": "markdown",
      "metadata": {
        "id": "9boYGXdDwhOr"
      },
      "source": [
        "This will enable you to access any directory on your Drive inside the Colab notebook"
      ]
    },
    {
      "cell_type": "code",
      "metadata": {
        "colab": {
          "base_uri": "https://localhost:8080/"
        },
        "id": "KC3VenLEly42",
        "outputId": "fd4d6921-1c58-441c-ec55-b7a5f891c5df"
      },
      "source": [
        "from google.colab import drive\n",
        "drive.mount('/content/drive')"
      ],
      "execution_count": 48,
      "outputs": [
        {
          "output_type": "stream",
          "text": [
            "Mounted at /content/drive\n"
          ],
          "name": "stdout"
        }
      ]
    }
  ]
}